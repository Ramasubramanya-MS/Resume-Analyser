{
 "cells": [
  {
   "cell_type": "code",
   "execution_count": 2,
   "metadata": {},
   "outputs": [],
   "source": [
    "api_key = \"\""
   ]
  },
  {
   "cell_type": "code",
   "execution_count": 3,
   "metadata": {},
   "outputs": [],
   "source": [
    "from langchain.llms import OpenAI\n",
    "\n",
    "\n",
    "llm = OpenAI(\n",
    "    openai_api_key = api_key\n",
    ")"
   ]
  },
  {
   "cell_type": "code",
   "execution_count": 95,
   "metadata": {},
   "outputs": [
    {
     "name": "stdout",
     "output_type": "stream",
     "text": [
      "\n",
      "\n",
      "Life's a bliss\n",
      "So why not kiss?\n",
      "A sweet embrace\n",
      "A timeless trace.\n"
     ]
    }
   ],
   "source": [
    "result = llm(\"Write a very very short poem\")\n",
    "print(result)"
   ]
  },
  {
   "cell_type": "code",
   "execution_count": 97,
   "metadata": {},
   "outputs": [
    {
     "name": "stdout",
     "output_type": "stream",
     "text": [
      "{'language': 'python', 'task': 'return a list of numbers', 'text': '\\n\\ndef get_nums():\\n  nums = [1, 2, 3, 4, 5]\\n  return nums'}\n"
     ]
    }
   ],
   "source": [
    "from langchain.llms import OpenAI\n",
    "from langchain.prompts import PromptTemplate\n",
    "from langchain.chains import LLMChain\n",
    "\n",
    "llm = OpenAI(\n",
    "    openai_api_key = api_key\n",
    ")\n",
    "\n",
    "code_promt = PromptTemplate(\n",
    "    template  = \"Write a very short {language} function that will {task}\",\n",
    "    input_variables = [\"language\", \"task\"]\n",
    ")\n",
    "\n",
    "code_chain = LLMChain(\n",
    "    llm = llm,\n",
    "    prompt = code_promt\n",
    ")\n",
    "\n",
    "result = code_chain({\n",
    "    \"language\": \"python\",\n",
    "    \"task\": \"return a list of numbers\"\n",
    "})\n",
    "\n",
    "print(result)\n"
   ]
  },
  {
   "cell_type": "code",
   "execution_count": 99,
   "metadata": {},
   "outputs": [
    {
     "name": "stdout",
     "output_type": "stream",
     "text": [
      "<class 'dict'>\n",
      "{'language': 'python',\n",
      " 'task': 'return a list of numbers',\n",
      " 'text': '\\n\\ndef get_nums():\\n  nums = [1, 2, 3, 4, 5]\\n  return nums'}\n"
     ]
    }
   ],
   "source": [
    "from pprint import pprint\n",
    "\n",
    "print(type(result))\n",
    "pprint(result)"
   ]
  },
  {
   "cell_type": "code",
   "execution_count": 149,
   "metadata": {},
   "outputs": [
    {
     "name": "stderr",
     "output_type": "stream",
     "text": [
      "usage: ipykernel_launcher.py [-h] [--task TASK] [--language LANGUAGE]\n",
      "ipykernel_launcher.py: error: unrecognized arguments: --f=c:\\Users\\Atind\\AppData\\Roaming\\jupyter\\runtime\\kernel-v2-10152gk3QbhK4Poj6.json\n"
     ]
    },
    {
     "ename": "SystemExit",
     "evalue": "2",
     "output_type": "error",
     "traceback": [
      "An exception has occurred, use %tb to see the full traceback.\n",
      "\u001b[1;31mSystemExit\u001b[0m\u001b[1;31m:\u001b[0m 2\n"
     ]
    },
    {
     "name": "stderr",
     "output_type": "stream",
     "text": [
      "C:\\Users\\Atind\\AppData\\Roaming\\Python\\Python311\\site-packages\\IPython\\core\\interactiveshell.py:3534: UserWarning: To exit: use 'exit', 'quit', or Ctrl-D.\n",
      "  warn(\"To exit: use 'exit', 'quit', or Ctrl-D.\", stacklevel=1)\n"
     ]
    }
   ],
   "source": [
    "# Connecting Chains Together\n",
    "from langchain.llms import OpenAI\n",
    "from langchain.prompts import PromptTemplate\n",
    "from langchain.chains import LLMChain, SequentialChain\n",
    "from dotenv import load_dotenv\n",
    "import argparse\n",
    "\n",
    "load_dotenv()\n",
    "\n",
    "parser = argparse.ArgumentParser()\n",
    "parser.add_argument(\"--task\", default=\"returns a list of numbers\")\n",
    "parser.add_argument(\"--language\", default=\"python\")\n",
    "args = parser.parse_args()\n",
    "\n",
    "llm = OpenAI()\n",
    "\n",
    "code_promt = PromptTemplate(\n",
    "    input_variables=[\"task\",\"language\"],\n",
    "    template=\"Write a very short {language} function that will {task}\"\n",
    ")\n",
    "\n",
    "test_prompt = PromptTemplate(\n",
    "    input_variables=[\"language\", \"code\"],\n",
    "    template=\"Write a test for the following {language} code:\\n{code}\"\n",
    "\n",
    ")\n",
    "code_chain = LLMChain(\n",
    "    llm = llm,\n",
    "    prompt = code_promt,\n",
    "    output_key = \"code\"\n",
    ")\n",
    "\n",
    "test_chain = LLMChain(\n",
    "    llm = llm,\n",
    "    prompt = test_prompt,\n",
    "    output_key = \"test\"\n",
    ")\n",
    "\n",
    "chain = SequentialChain(\n",
    "    chains = [code_chain, test_chain],\n",
    "    input_variables = [\"task\", \"language\"],\n",
    "    output_variables = [\"test\", \"code\"]\n",
    ")\n",
    "\n",
    "result = chain({\n",
    "    \"language\": args.language,\n",
    "    \"task\": args.task\n",
    "})\n",
    "\n",
    "print(\">>>>>>> GENERATED CODE <<<<<<<\")\n",
    "print(result[\"code\"])\n",
    "\n",
    "print(\">>>>>>> GENERATED TEST <<<<<<<\")\n",
    "print(result[\"test\"])"
   ]
  },
  {
   "cell_type": "code",
   "execution_count": 144,
   "metadata": {},
   "outputs": [],
   "source": [
    "import PyPDF2\n",
    "\n",
    "def extract_text_from_pdf(file_path):\n",
    "    text = \"\"\n",
    "    with open(file_path, 'rb') as file:\n",
    "        reader = PyPDF2.PdfReader(file)\n",
    "        for page in reader.pages:\n",
    "            text += page.extract_text()\n",
    "    return text\n",
    "\n",
    "# Replace 'Resume.pdf' with the path to your resume file\n",
    "resume_text = extract_text_from_pdf('Resume.pdf')\n",
    "# pprint(resume_text)\n"
   ]
  },
  {
   "cell_type": "code",
   "execution_count": 145,
   "metadata": {},
   "outputs": [
    {
     "name": "stdout",
     "output_type": "stream",
     "text": [
      "{'Name of the candidate': '\\n \\nAnswer: Robert Stanhill',\n",
      " 'programming languages': '\\n'\n",
      "                          ' \\n'\n",
      "                          '\\n'\n",
      "                          'Programming Languages: C/C++, Python (Numpy & '\n",
      "                          'Pandas), TypeScript',\n",
      " 'programming skills': '\\n'\n",
      "                       '• Runner  Up  – 2021  BNM  Institute  of Technology '\n",
      "                       'IEEE  Hackathon  \\n'\n",
      "                       ' \\n'\n",
      "                       'Programming skills: C/C++, Python (Numpy & Pandas), '\n",
      "                       'TypeScript',\n",
      " 'soft skills': '\\n'\n",
      "                '\\n'\n",
      "                'Soft Skills: Problem-solving, Collaborative Leadership, Good '\n",
      "                'listener and Effective communicator, Eager & Enthusiastic '\n",
      "                'learner.'}\n"
     ]
    }
   ],
   "source": [
    "from langchain.llms import OpenAI\n",
    "from langchain.prompts import PromptTemplate\n",
    "from langchain.chains import LLMChain\n",
    "\n",
    "llm = OpenAI(\n",
    "    openai_api_key = api_key\n",
    ")\n",
    "\n",
    "code_promt = PromptTemplate(\n",
    "    template  = \"Identify the {details} in this resume:\\n\\n{resume_text}\",\n",
    "    input_variables = [\"details\", \"resume_text\"]\n",
    ")\n",
    "\n",
    "code_chain = LLMChain(\n",
    "    llm = llm,\n",
    "    prompt = code_promt\n",
    ")\n",
    "\n",
    "# result = code_chain({\n",
    "#     \"details\": \"Name of the candidate\",\n",
    "#     \"resume_text\": resume_text\n",
    "# })\n",
    "\n",
    "extracted_details = {}\n",
    "for detail in [\"Name of the candidate\", \"soft skills\", \"programming skills\", \"programming languages\"]:\n",
    "    result = code_chain({\n",
    "        \"details\": detail,\n",
    "        \"resume_text\": resume_text\n",
    "    })\n",
    "    extracted_details[detail] = result['text']\n",
    "\n",
    "\n",
    "pprint(extracted_details)\n"
   ]
  },
  {
   "cell_type": "code",
   "execution_count": 125,
   "metadata": {},
   "outputs": [
    {
     "name": "stdout",
     "output_type": "stream",
     "text": [
      "\n",
      "\n",
      "Programming skills: C/C++, Python (Numpy & Pandas), TypeScript, AngularJS, Angular13\n"
     ]
    }
   ],
   "source": [
    "print(result['text'])\n"
   ]
  },
  {
   "cell_type": "code",
   "execution_count": 146,
   "metadata": {},
   "outputs": [
    {
     "name": "stdout",
     "output_type": "stream",
     "text": [
      "CREATE (person:Person {name: 'Robert Stanhill'})\n",
      "MERGE (skill:Skill:Programming {name: 'C/C++', id: 'C/C++'})\n",
      "MATCH (person:Person {name: 'Robert Stanhill'}), (skill:Skill {id: 'C/C++'}) CREATE (person)-[:HAS_SKILL]->(skill)\n",
      "MERGE (skill:Skill:Programming {name: 'Python (Numpy & Pandas)', id: 'Python_(Numpy_And_Pandas)'})\n",
      "MATCH (person:Person {name: 'Robert Stanhill'}), (skill:Skill {id: 'Python_(Numpy_And_Pandas)'}) CREATE (person)-[:HAS_SKILL]->(skill)\n",
      "MERGE (skill:Skill:Programming {name: 'TypeScript', id: 'TypeScript'})\n",
      "MATCH (person:Person {name: 'Robert Stanhill'}), (skill:Skill {id: 'TypeScript'}) CREATE (person)-[:HAS_SKILL]->(skill)\n",
      "MERGE (skill:Skill:Soft {name: 'Problem-solving', id: 'Problem-solving'})\n",
      "MATCH (person:Person {name: 'Robert Stanhill'}), (skill:Skill {id: 'Problem-solving'}) CREATE (person)-[:HAS_SKILL]->(skill)\n",
      "MERGE (skill:Skill:Soft {name: 'Collaborative Leadership', id: 'Collaborative_Leadership'})\n",
      "MATCH (person:Person {name: 'Robert Stanhill'}), (skill:Skill {id: 'Collaborative_Leadership'}) CREATE (person)-[:HAS_SKILL]->(skill)\n",
      "MERGE (skill:Skill:Soft {name: 'Good listener and Effective communicator', id: 'Good_listener_and_Effective_communicator'})\n",
      "MATCH (person:Person {name: 'Robert Stanhill'}), (skill:Skill {id: 'Good_listener_and_Effective_communicator'}) CREATE (person)-[:HAS_SKILL]->(skill)\n",
      "MERGE (skill:Skill:Soft {name: 'Eager & Enthusiastic learner.', id: 'Eager_And_Enthusiastic_learner.'})\n",
      "MATCH (person:Person {name: 'Robert Stanhill'}), (skill:Skill {id: 'Eager_And_Enthusiastic_learner.'}) CREATE (person)-[:HAS_SKILL]->(skill)\n"
     ]
    }
   ],
   "source": [
    "def create_cypher_queries(extracted_details):\n",
    "    queries = []\n",
    "\n",
    "    # Create the Person node\n",
    "    person_name = extracted_details['Name of the candidate'].split(': ')[-1].strip()\n",
    "    queries.append(f\"CREATE (person:Person {{name: '{person_name}'}})\")\n",
    "\n",
    "    # Create nodes for programming skills and relationships to the Person\n",
    "    programming_skills = extracted_details['programming skills'].split(': ')[-1].split(', ')\n",
    "    for skill in programming_skills:\n",
    "        skill_id = skill.replace(\" \", \"_\").replace(\"&\", \"And\")  # Creating a simple ID\n",
    "        queries.append(f\"MERGE (skill:Skill:Programming {{name: '{skill}', id: '{skill_id}'}})\")\n",
    "        queries.append(f\"MATCH (person:Person {{name: '{person_name}'}}), (skill:Skill {{id: '{skill_id}'}}) CREATE (person)-[:HAS_SKILL]->(skill)\")\n",
    "\n",
    "    # Create nodes for soft skills and relationships to the Person\n",
    "    soft_skills = extracted_details['soft skills'].split(': ')[-1].split(', ')\n",
    "    for skill in soft_skills:\n",
    "        skill_id = skill.replace(\" \", \"_\").replace(\"&\", \"And\")  # Creating a simple ID\n",
    "        queries.append(f\"MERGE (skill:Skill:Soft {{name: '{skill}', id: '{skill_id}'}})\")\n",
    "        queries.append(f\"MATCH (person:Person {{name: '{person_name}'}}), (skill:Skill {{id: '{skill_id}'}}) CREATE (person)-[:HAS_SKILL]->(skill)\")\n",
    "\n",
    "    return queries\n",
    "\n",
    "# # Example usage\n",
    "# extracted_details = {\n",
    "#     'Name of the candidate': 'Answer: Robert Stanhill',\n",
    "#     'programming skills': 'Programming Skills: C/C++, Python (Numpy & Pandas), TypeScript, AngularJS, Angular13',\n",
    "#     'soft skills': 'Soft Skills: Problem-solving, Collaborative Leadership, Good listener and Effective communicator, Eager & Enthusiastic learner.'\n",
    "# }\n",
    "\n",
    "cypher_queries = create_cypher_queries(extracted_details)\n",
    "for query in cypher_queries:\n",
    "    print(query)\n"
   ]
  },
  {
   "cell_type": "code",
   "execution_count": 120,
   "metadata": {},
   "outputs": [
    {
     "name": "stdout",
     "output_type": "stream",
     "text": [
      "[\"CREATE (:Person {name: 'Robert Stanhill'})\"]\n"
     ]
    }
   ],
   "source": [
    "\n",
    "def create_cypher_queries(result):\n",
    "    queries = []\n",
    "\n",
    "    # Extracting entity name from the 'text' field in the result\n",
    "    entity_name = result['text'].split(\": \")[-1].strip()\n",
    "\n",
    "    # Assuming the entity is a 'Person', since the example given is a candidate's name\n",
    "    queries.append(f\"CREATE (:Person {{name: '{entity_name}'}})\")\n",
    "\n",
    "    # Add additional logic here for other types of entities if needed\n",
    "\n",
    "    # If there were relationships, they would be processed here\n",
    "    # For now, it seems we only have a single entity\n",
    "\n",
    "    return queries\n",
    "\n",
    "cypher_queries = create_cypher_queries(result)\n",
    "print(cypher_queries)\n"
   ]
  },
  {
   "cell_type": "code",
   "execution_count": 147,
   "metadata": {},
   "outputs": [],
   "source": [
    "from neo4j import GraphDatabase\n",
    "\n",
    "url = \"neo4j+s://04b59de7.databases.neo4j.io\"  # Replace with your Neo4j instance URI\n",
    "username = \"neo4j\"  # Replace with your username\n",
    "password = \"9aCyMIcwMivgow5OvvkHbJ9svjUkzviHu5du0c5FZbw\"  # Replace with your password\n",
    "\n",
    "driver = GraphDatabase.driver(url, auth=(username, password))\n",
    "\n",
    "def add_data_to_neo4j(queries):\n",
    "    with driver.session() as session:\n",
    "        for query in queries:\n",
    "            session.run(query)\n",
    "\n",
    "add_data_to_neo4j(cypher_queries)\n"
   ]
  },
  {
   "cell_type": "code",
   "execution_count": 101,
   "metadata": {},
   "outputs": [
    {
     "name": "stdout",
     "output_type": "stream",
     "text": [
      "\n",
      "From the resume below, extract the details of Person name, Experience and Education and the following Entities & relationships and represent them in a key-value pair format which is perfectly a JSON format and also remove anything that appears outside the curly braces { }:\n",
      "0. ALWAYS FINISH THE OUTPUT. Never send partial responses.\n",
      "1. Identify and list these Entity types in a key-value pair format:\n",
      "    Entity Types:\n",
      "    - 'Person\": {'id': string, 'name': string}; // The candidate. `id` is a unique identifier, in camel-case, based on the person's name.\n",
      "    - 'Experience': {'id': string, 'role': string, 'organization': string}; // Professional experiences. `id` is a unique identifier for each experience.\n",
      "    - 'Education': {'id': string, 'institution': string, 'degree': string, 'year': string}; // Educational background. `id` is a unique identifier for each education record.\n",
      "\n",
      "2. Define relationships in a key-value pair format:\n",
      "    Relationship Types:\n",
      "    - {'personid': string, 'relationship': 'HAS_EXPERIENCE', 'experienceid': string}\n",
      "    - {'personid': string, 'relationship': 'HAS_EDUCATION', 'educationid': string}\n",
      "\n",
      "3. The output should be structured as:\n",
      "{\n",
      "    \"entities\": [{'label': 'Person', 'properties': {...}}, ...],\n",
      "    \"relationships\": [{'personid': string, 'relationship': string, 'relatedEntityId': string}, ...]\n",
      "}\n",
      "\n",
      "Resume Content:\n",
      "$ctext\n",
      "\n",
      "\n",
      "\n",
      "Robert Stanhill (Ramasubramanya  M.S. ) \n",
      " \n",
      " \n",
      " \n",
      " \n",
      " \n",
      "Career  Objective  Mobile:  +61 439 143 891 \n",
      "Email: stanhillrobert@gmail.com  \n",
      " LinkedIn: https:// www.linkedin.com/in/ramasubramanya/  \n",
      "GitHub:  https://github.com/Ramasubramanya -MS \n",
      " \n",
      "Motivated and detail -oriented retail professional committ ed to delivering high -quality customer \n",
      "service and value. Passionate about contributing to a team that upholds the principles of \n",
      "affordability, quality, and ethical sourcing. Seeking an opportunity to leverage my skills in a fast -\n",
      "paced, customer -centric en vironment where I can focus on providing exceptional value without \n",
      "compromising on quality.  \n",
      " \n",
      "Education  \n",
      " \n",
      "Master  in AI, RMIT  University,  Melbourne  (2023 -2025)  \n",
      "Bachelor  in Computer Science , B.N.M  Institute  of Technology,  Bangalore,  India  (2018 -2022)  \n",
      " \n",
      "Work  Experience  \n",
      " \n",
      "Bosch  Global  Software  Technologies:  Angular  Developer  (September  2022  – February  2023)  \n",
      "• Contributed  to AngularJS  to Angular13  migration  project.  \n",
      "• Constructed  a Front End  for a new  project.  \n",
      " \n",
      "Volunteer  Experience  \n",
      " \n",
      "• Crossways  (March  2023 – present)  \n",
      "• RUSU  (June 2023 – present)   \n",
      " \n",
      "Internship  \n",
      "Old Dominion  University , Department  of Computer  Science, Virginia,  USA  – Deep Learning \n",
      "Research Internship (May 2021, Online)  \n",
      " \n",
      "Key Skills  \n",
      " \n",
      "Soft Skills and Strengths: Problem -solving – 5W root cause analysis, Collaborative Leadership,  \n",
      "Good  listener and Effective  communicator,  Eager  & Enthusiastic learner.  \n",
      "I.T.: Programming  Languages:  C/C++,  Python  (Numpy  & Pandas),  TypeScript  \n",
      "Editing  and Communication:  MS Office  Suite  (Excel,  Word,  Powerpoint)  \n",
      "Languages: English,  Hindi,  Kannada  and Tamil,  German  (Basic),  Japanese  (Basic)  \n",
      "References  \n",
      " \n",
      "Prateek Kamalaksha  \n",
      "Emp ID: 1149772  \n",
      "Role: Night Fill – Woolworths Bell Post Hill  Projects  \n",
      "Research Project on Imersian's AR -Based Design Platform  (http:// bit.ly/46ILAtO ) (July  2023)  \n",
      "Conducted a two -week intensive research project on Imersian, a web -based AR design platform, to \n",
      "develop a comprehensive growth plan. Utilized market research to enhance user engagement and \n",
      "streamline the purchasing process. Proposed AI and UX/UI improvements, along with a credit -\n",
      "based r eward system. The project aimed to elevate the platform's user experience and market \n",
      "reach.  \n",
      "Classifying Lung Tumors in Luna16 dataset using CNN and GAN ( https://bit.ly/3SjIS7c ) (June 2022)  \n",
      "Using  DCGAN,  data  augmentation  was performed  to solve  the class  imbalance  between  benign  and \n",
      "malignant nodules in Luna16 dataset. Further, the dataset containing both original pulmonary  \n",
      "nodules and data augmented nodules were used to train various prominent CNN architectures to  \n",
      "effectively classify. Performance, ROC curves of these CNN architectures were noted. Possible  \n",
      "reasons  and hypothesis  were  questioned,  tested  and evaluated. (Awarded  as Best  Project  Award)  \n",
      "Accidental Fall Detection using CNN and Computer Vision ( https://bit.ly/3PBt810 ) (May 2021 ) \n",
      "The solution to the problem of alerting if an individual has fallen was solved into two ways. First,  \n",
      "using the accelerometer data from WISDM dataset, the CNN model was trained to classify various  \n",
      "activities like walking, jogging, climbing and fall. Secon d, using the MediaPipe library released by  \n",
      "Google, the CNN model could identify of an individual. Calculating the angle between the  \n",
      "shoulders,  hip and knee , the CNN  model could  identify  if an individual  has fallen  or not.  \n",
      " \n",
      "Research  Papers  \n",
      " \n",
      "1. Knowledge Engineering -based Analysis of CNN architectures’ performance on Luna16 and  \n",
      "GAN generated Pulmonary Nodule Clipped Patches to Diagnose Lung Cancer – ICSES 2022  \n",
      "(Springer  2023)  \n",
      "2. Analysis  of EfficientNet  CNN  model  on luna16  extracted  lung  nodule  patc hes – IJRTI  2022  \n",
      "3. Deep Learning based Intelligent Waste Identification System – RDCES 2022 (Best Paper  \n",
      "Award)  \n",
      " \n",
      "Certifications  \n",
      "• Provide cardiopulmonary resuscitation, basic emergency life support and first aid  (Australia \n",
      "wide First Aid)  \n",
      "• RMIT 2-week Industry Experience Program  (RMIT – Practera)  \n",
      "• Working with Children Check (Volunteer, Victorian Government)  \n",
      "• Develop  Critical  Thinking,  Decision -Making,  and Problem -Solving  Skills  (LinkedIn  Learning)  \n",
      "• Build  Your  Analytical  Skills  with  Statistical  Analysis  Learning  Path  (LinkedIn  Learning)  \n",
      "• Excel:  Managing  and Analyzing  Data  (LinkedIn  Learning)  \n",
      " \n",
      "Awards  and Achievements  \n",
      "• First  Place  – 2020  BNM  Institute  of Technology IEEE  Hackathon  \n",
      "• Best  Paper  Award  – 2022  Recent  Trends  in Electronic  and Communication  Systems  \n",
      "Conference  \n",
      "• Best  Project  Award  – 2022  Department  of CSE,  BNM  Institute  of Technology  \n"
     ]
    }
   ],
   "source": [
    "resume_prompt_template = \"\"\"\n",
    "From the resume below, extract the details of Person name, Experience and Education and the following Entities & relationships and represent them in a key-value pair format which is perfectly a JSON format and also remove anything that appears outside the curly braces { }:\n",
    "0. ALWAYS FINISH THE OUTPUT. Never send partial responses.\n",
    "1. Identify and list these Entity types in a key-value pair format:\n",
    "    Entity Types:\n",
    "    - 'Person\": {'id': string, 'name': string}; // The candidate. `id` is a unique identifier, in camel-case, based on the person's name.\n",
    "    - 'Experience': {'id': string, 'role': string, 'organization': string}; // Professional experiences. `id` is a unique identifier for each experience.\n",
    "    - 'Education': {'id': string, 'institution': string, 'degree': string, 'year': string}; // Educational background. `id` is a unique identifier for each education record.\n",
    "\n",
    "2. Define relationships in a key-value pair format:\n",
    "    Relationship Types:\n",
    "    - {'personid': string, 'relationship': 'HAS_EXPERIENCE', 'experienceid': string}\n",
    "    - {'personid': string, 'relationship': 'HAS_EDUCATION', 'educationid': string}\n",
    "\n",
    "3. The output should be structured as:\n",
    "{\n",
    "    \"entities\": [{'label': 'Person', 'properties': {...}}, ...],\n",
    "    \"relationships\": [{'personid': string, 'relationship': string, 'relatedEntityId': string}, ...]\n",
    "}\n",
    "\n",
    "Resume Content:\n",
    "$ctext\n",
    "\n",
    "\"\"\"\n",
    "\n",
    "# Combine the prompt with the resume text\n",
    "resume_input_text = f\"{resume_prompt_template}\\n\\n{resume_text}\"\n",
    "print(resume_input_text)\n",
    "# # Get model response\n",
    "# response = text2text_pipeline(input_text)\n",
    "# extracted_info = response[0]['generated_text']\n",
    "\n",
    "# # Print the extracted information\n",
    "# print(extracted_info)"
   ]
  },
  {
   "cell_type": "code",
   "execution_count": 102,
   "metadata": {},
   "outputs": [
    {
     "name": "stdout",
     "output_type": "stream",
     "text": [
      "\n",
      " \n",
      "\n",
      "\n",
      "\n",
      "\n",
      "{\n",
      "    \"entities\": [\n",
      "        {\n",
      "            \"label\": \"Person\",\n",
      "            \"properties\": {\n",
      "                \"id\": \"stanhillrobert\",\n",
      "                \"name\": \"Robert Stanhill (Ramasubramanya M.S.)\"\n",
      "            }\n",
      "        },\n",
      "        {\n",
      "            \"label\": \"Experience\",\n",
      "            \"properties\": {\n",
      "                \"id\": \"boschGlobal\",\n",
      "                \"role\": \"Angular Developer\",\n",
      "                \"organization\": \"Bosch Global Software Technologies\"\n",
      "            }\n",
      "        },\n",
      "        {\n",
      "            \"label\": \"Education\",\n",
      "            \"properties\": {\n",
      "                \"id\": \"msAi\",\n",
      "                \"institution\": \"RMIT University, Melbourne\",\n",
      "                \"degree\": \"Master in AI\",\n",
      "                \"year\": \"2023-2025\"\n",
      "            }\n",
      "        },\n",
      "        {\n",
      "            \"label\": \"Education\",\n",
      "            \"properties\": {\n",
      "                \"id\": \"bscCs\",\n",
      "                \"institution\": \"B.N.M Institute of Technology, Bangalore, India\",\n",
      "                \"degree\": \"Bachelor in Computer Science\",\n",
      "                \"\n"
     ]
    }
   ],
   "source": [
    "extracted_info = llm(resume_input_text)\n",
    "\n",
    "print((extracted_info))"
   ]
  },
  {
   "cell_type": "code",
   "execution_count": 103,
   "metadata": {},
   "outputs": [
    {
     "name": "stdout",
     "output_type": "stream",
     "text": [
      "[{\n",
      "    \"entities\": [\n",
      "        {\n",
      "            \"label\": \"Person\",\n",
      "            \"properties\": {\n",
      "                \"id\": \"stanhillrobert\",\n",
      "                \"name\": \"Robert Stanhill (Ramasubramanya M.S.)\"\n",
      "            }\n",
      "        },\n",
      "        {\n",
      "            \"label\": \"Experience\",\n",
      "            \"properties\": {\n",
      "                \"id\": \"boschGlobal\",\n",
      "                \"role\": \"Angular Developer\",\n",
      "                \"organization\": \"Bosch Global Software Technologies\"\n",
      "            }\n",
      "        },\n",
      "        {\n",
      "            \"label\": \"Education\",\n",
      "            \"properties\": {\n",
      "                \"id\": \"msAi\",\n",
      "                \"institution\": \"RMIT University, Melbourne\",\n",
      "                \"degree\": \"Master in AI\",\n",
      "                \"year\": \"2023-2025\"\n",
      "            }\n",
      "        }]\n"
     ]
    }
   ],
   "source": [
    "# extracted_info = \"your original string with JSON-like content\"\n",
    "\n",
    "# Find the index of the first occurrence of '{'\n",
    "index_of_brace = extracted_info.find('{')\n",
    "\n",
    "# Slice the string from the index of '{' if '{' is found\n",
    "if index_of_brace != -1:\n",
    "    result_string = '[' + extracted_info[index_of_brace:]\n",
    "else:\n",
    "    result_string = extracted_info  # or handle the case when '{' is not found\n",
    "\n",
    "# Find the index of the last occurrence of '}'\n",
    "index_of_last_brace = result_string.rfind('}')\n",
    "\n",
    "# Slice the string up to and including the last '}' and then append a ']'\n",
    "if index_of_last_brace != -1:\n",
    "    result_string = result_string[:index_of_last_brace + 1] + ']'\n",
    "else:\n",
    "    result_string = result_string  # or handle the case when '}' is not found\n",
    "\n",
    "# Convert all single quotes ' to double quotes \"\n",
    "result_string = result_string.replace(\"'\", '\"')\n",
    "\n",
    "print(result_string)\n"
   ]
  },
  {
   "cell_type": "code",
   "execution_count": 104,
   "metadata": {},
   "outputs": [
    {
     "name": "stdout",
     "output_type": "stream",
     "text": [
      "\n",
      "• Winner  of RMIT  2-week  Industry Experience Program  (RMIT – Practera)  \n",
      "\n",
      "\n",
      "{\n",
      "    \"entities\": [\n",
      "        {\n",
      "            \"label\": \"Person\",\n",
      "            \"properties\": {\n",
      "                \"id\": \"stanhillrobert\",\n",
      "                \"name\": \"Robert Stanhill\"\n",
      "            }\n",
      "        },\n",
      "        {\n",
      "            \"label\": \"Experience\",\n",
      "            \"properties\": {\n",
      "                \"id\": \"boschGlobalSoftwareTechnologies\",\n",
      "                \"role\": \"Angular Developer\",\n",
      "                \"organization\": \"Bosch Global Software Technologies\"\n",
      "            }\n",
      "        },\n",
      "        {\n",
      "            \"label\": \"Experience\",\n",
      "            \"properties\": {\n",
      "                \"id\": \"crossways\",\n",
      "                \"role\": \"Volunteer\",\n",
      "                \"organization\": \"Crossways\"\n",
      "            }\n",
      "        },\n",
      "        {\n",
      "            \"label\": \"Experience\",\n",
      "            \"properties\": {\n",
      "                \"id\": \"rusu\",\n",
      "                \"role\": \"Volunteer\",\n",
      "                \"organization\": \"RUSU\"\n",
      "            }\n",
      "        },\n",
      "        {\n",
      "            \"label\": \"Experience\",\n",
      "\n"
     ]
    }
   ],
   "source": [
    "extracted_info = llm(resume_input_text)\n",
    "\n",
    "print((extracted_info))"
   ]
  },
  {
   "cell_type": "code",
   "execution_count": 105,
   "metadata": {},
   "outputs": [
    {
     "name": "stdout",
     "output_type": "stream",
     "text": [
      "Error parsing model output as JSON.\n",
      "{'entities': [], 'relationships': []}\n"
     ]
    }
   ],
   "source": [
    "import json\n",
    "\n",
    "# Convert the extracted information to a Python dictionary\n",
    "try:\n",
    "    parsed_output = json.loads(result_string)\n",
    "except json.JSONDecodeError:\n",
    "    print(\"Error parsing model output as JSON.\")\n",
    "    parsed_output = {\"entities\": [], \"relationships\": []}\n",
    "\n",
    "# Extract entities and relationships\n",
    "entities = parsed_output[\"entities\"]\n",
    "relationships = parsed_output[\"relationships\"]\n",
    "\n",
    "print(parsed_output)\n"
   ]
  },
  {
   "cell_type": "code",
   "execution_count": 106,
   "metadata": {},
   "outputs": [
    {
     "name": "stdout",
     "output_type": "stream",
     "text": [
      "<class 'list'>\n"
     ]
    }
   ],
   "source": [
    "import json\n",
    "\n",
    "json_string = \"\"\"\n",
    "[{\n",
    "    \"entities\": [\n",
    "        {\n",
    "            \"label\": \"Person\",\n",
    "            \"properties\": {\n",
    "                \"id\": \"stanhillrobert\",\n",
    "                \"name\": \"Robert Stanhill\"\n",
    "            }\n",
    "        },\n",
    "        {\n",
    "            \"label\": \"Experience\",\n",
    "            \"properties\": {\n",
    "                \"id\": \"boschGlobal\",\n",
    "                \"role\": \"Angular Developer\",\n",
    "                \"organization\": \"Bosch Global Software Technologies\"\n",
    "            }\n",
    "        },\n",
    "        {\n",
    "            \"label\": \"Education\",\n",
    "            \"properties\": {\n",
    "                \"id\": \"masterInAi\",\n",
    "                \"institution\": \"RMIT University\",\n",
    "                \"degree\": \"Master in AI\",\n",
    "                \"year\": \"2023 -2025\"\n",
    "            }\n",
    "        },\n",
    "        {\n",
    "            \"label\": \"Education\",\n",
    "            \"properties\": {\n",
    "                \"id\": \"bachelorInComputerScience\",\n",
    "                \"institution\": \"B.N.M Institute of Technology\",\n",
    "                \"degree\": \"Bachelor in Computer Science\",\n",
    "                \"year\": \"2018 -2022\"\n",
    "            }\n",
    "        }]\n",
    "}]\n",
    "\"\"\"\n",
    "\n",
    "try:\n",
    "    parsed_data = json.loads(json_string)\n",
    "    print(type(parsed_data))\n",
    "except json.JSONDecodeError as e:\n",
    "    print(f\"Error parsing JSON: {e}\")\n"
   ]
  },
  {
   "cell_type": "code",
   "execution_count": null,
   "metadata": {},
   "outputs": [],
   "source": []
  },
  {
   "cell_type": "code",
   "execution_count": 107,
   "metadata": {},
   "outputs": [
    {
     "name": "stdout",
     "output_type": "stream",
     "text": [
      "Person {'id': 'stanhillrobert', 'name': 'Robert Stanhill'}\n",
      "id\n"
     ]
    },
    {
     "ename": "TypeError",
     "evalue": "string indices must be integers, not 'str'",
     "output_type": "error",
     "traceback": [
      "\u001b[1;31m---------------------------------------------------------------------------\u001b[0m",
      "\u001b[1;31mTypeError\u001b[0m                                 Traceback (most recent call last)",
      "Cell \u001b[1;32mIn[107], line 32\u001b[0m\n\u001b[0;32m     28\u001b[0m \u001b[38;5;28;01mfor\u001b[39;00m entity \u001b[38;5;129;01min\u001b[39;00m entities:\n\u001b[0;32m     29\u001b[0m     \u001b[38;5;28mprint\u001b[39m(entity[\u001b[38;5;124m'\u001b[39m\u001b[38;5;124mlabel\u001b[39m\u001b[38;5;124m'\u001b[39m], entity[\u001b[38;5;124m'\u001b[39m\u001b[38;5;124mproperties\u001b[39m\u001b[38;5;124m'\u001b[39m])\n\u001b[1;32m---> 32\u001b[0m     cypher_queries \u001b[38;5;241m=\u001b[39m \u001b[43mcreate_cypher_queries\u001b[49m\u001b[43m(\u001b[49m\u001b[43mentity\u001b[49m\u001b[43m[\u001b[49m\u001b[38;5;124;43m'\u001b[39;49m\u001b[38;5;124;43mproperties\u001b[39;49m\u001b[38;5;124;43m'\u001b[39;49m\u001b[43m]\u001b[49m\u001b[43m,\u001b[49m\u001b[38;5;124;43m\"\u001b[39;49m\u001b[38;5;124;43m\"\u001b[39;49m\u001b[43m)\u001b[49m\n\u001b[0;32m     33\u001b[0m \u001b[38;5;66;03m# print(entities)\u001b[39;00m\n",
      "Cell \u001b[1;32mIn[107], line 7\u001b[0m, in \u001b[0;36mcreate_cypher_queries\u001b[1;34m(entities, relationships)\u001b[0m\n\u001b[0;32m      5\u001b[0m \u001b[38;5;28;01mfor\u001b[39;00m entity \u001b[38;5;129;01min\u001b[39;00m entities:\n\u001b[0;32m      6\u001b[0m     \u001b[38;5;28mprint\u001b[39m(entity)\n\u001b[1;32m----> 7\u001b[0m     \u001b[38;5;28;01mif\u001b[39;00m \u001b[43mentity\u001b[49m\u001b[43m[\u001b[49m\u001b[38;5;124;43m'\u001b[39;49m\u001b[38;5;124;43mlabel\u001b[39;49m\u001b[38;5;124;43m'\u001b[39;49m\u001b[43m]\u001b[49m \u001b[38;5;241m==\u001b[39m \u001b[38;5;124m'\u001b[39m\u001b[38;5;124mPerson\u001b[39m\u001b[38;5;124m'\u001b[39m:\n\u001b[0;32m      8\u001b[0m         queries\u001b[38;5;241m.\u001b[39mappend(\u001b[38;5;124mf\u001b[39m\u001b[38;5;124m\"\u001b[39m\u001b[38;5;124mCREATE (:Person \u001b[39m\u001b[38;5;130;01m{{\u001b[39;00m\u001b[38;5;124mid: \u001b[39m\u001b[38;5;124m'\u001b[39m\u001b[38;5;132;01m{\u001b[39;00mentity[\u001b[38;5;124m'\u001b[39m\u001b[38;5;124mid\u001b[39m\u001b[38;5;124m'\u001b[39m]\u001b[38;5;132;01m}\u001b[39;00m\u001b[38;5;124m'\u001b[39m\u001b[38;5;124m, name: \u001b[39m\u001b[38;5;124m'\u001b[39m\u001b[38;5;132;01m{\u001b[39;00mentity[\u001b[38;5;124m'\u001b[39m\u001b[38;5;124mname\u001b[39m\u001b[38;5;124m'\u001b[39m]\u001b[38;5;132;01m}\u001b[39;00m\u001b[38;5;124m'\u001b[39m\u001b[38;5;130;01m}}\u001b[39;00m\u001b[38;5;124m)\u001b[39m\u001b[38;5;124m\"\u001b[39m)\n\u001b[0;32m      9\u001b[0m     \u001b[38;5;28;01melif\u001b[39;00m entity[\u001b[38;5;124m'\u001b[39m\u001b[38;5;124mlabel\u001b[39m\u001b[38;5;124m'\u001b[39m] \u001b[38;5;241m==\u001b[39m \u001b[38;5;124m'\u001b[39m\u001b[38;5;124mExperience\u001b[39m\u001b[38;5;124m'\u001b[39m:\n",
      "\u001b[1;31mTypeError\u001b[0m: string indices must be integers, not 'str'"
     ]
    }
   ],
   "source": [
    "def create_cypher_queries(entities, relationships):\n",
    "    queries = []\n",
    "\n",
    "    # Create queries for entities\n",
    "    for entity in entities:\n",
    "        print(entity)\n",
    "        if entity['label'] == 'Person':\n",
    "            queries.append(f\"CREATE (:Person {{id: '{entity['id']}', name: '{entity['name']}'}})\")\n",
    "        elif entity['label'] == 'Experience':\n",
    "            queries.append(f\"CREATE (:Experience {{id: '{entity['id']}', role: '{entity['role']}', organization: '{entity['organization']}', duration: '{entity['duration']}'}})\")\n",
    "        # Add other entity types here\n",
    "\n",
    "    # Create queries for relationships\n",
    "    for relation in relationships:\n",
    "        head, rel_type, tail = relation.split('|')\n",
    "        queries.append(f\"MATCH (a), (b) WHERE a.id = '{head}' AND b.id = '{tail}' CREATE (a)-[:{rel_type}]->(b)\")\n",
    "\n",
    "    return queries\n",
    "\n",
    "\n",
    "# Accessing the first item in the list (which is a dictionary)\n",
    "first_item = parsed_data[0]\n",
    "\n",
    "# Accessing the 'entities' key in this dictionary\n",
    "entities = first_item['entities']\n",
    "\n",
    "# You can then iterate over entities, access specific properties, etc.\n",
    "for entity in entities:\n",
    "    print(entity['label'], entity['properties'])\n",
    "\n",
    "\n",
    "    cypher_queries = create_cypher_queries(entity['properties'],\"\")\n",
    "# print(entities)"
   ]
  },
  {
   "cell_type": "code",
   "execution_count": null,
   "metadata": {},
   "outputs": [],
   "source": [
    "from neo4j import GraphDatabase\n",
    "\n",
    "url = \"neo4j+s://42827bf0.databases.neo4j.io\"  # Replace with your Neo4j instance URI\n",
    "username = \"neo4j\"  # Replace with your username\n",
    "password = \"wwwD7iG-ZWW1YPDBLb_IoxpQxbdgmLSNKztHArPXldY\"  # Replace with your password\n",
    "\n",
    "driver = GraphDatabase.driver(url, auth=(username, password))\n",
    "\n",
    "def add_data_to_neo4j(queries):\n",
    "    with driver.session() as session:\n",
    "        for query in queries:\n",
    "            session.run(query)\n",
    "\n",
    "add_data_to_neo4j(cypher_queries)\n"
   ]
  },
  {
   "cell_type": "code",
   "execution_count": null,
   "metadata": {},
   "outputs": [],
   "source": [
    "from neo4j import GraphDatabase\n",
    "\n",
    "url = \"neo4j+s://04b59de7.databases.neo4j.io\"  # Replace with your Neo4j instance URI\n",
    "username = \"neo4j\"  # Replace with your username\n",
    "password = \"9aCyMIcwMivgow5OvvkHbJ9svjUkzviHu5du0c5FZbw\"  # Replace with your password\n",
    "\n",
    "driver = GraphDatabase.driver(url, auth=(username, password))\n",
    "\n",
    "def add_data_to_neo4j(queries):\n",
    "    with driver.session() as session:\n",
    "        for query in queries:\n",
    "            session.run(query)\n",
    "\n",
    "add_data_to_neo4j(cypher_queries)\n"
   ]
  },
  {
   "cell_type": "code",
   "execution_count": null,
   "metadata": {},
   "outputs": [],
   "source": []
  }
 ],
 "metadata": {
  "kernelspec": {
   "display_name": "Python 3",
   "language": "python",
   "name": "python3"
  },
  "language_info": {
   "codemirror_mode": {
    "name": "ipython",
    "version": 3
   },
   "file_extension": ".py",
   "mimetype": "text/x-python",
   "name": "python",
   "nbconvert_exporter": "python",
   "pygments_lexer": "ipython3",
   "version": "3.11.5"
  }
 },
 "nbformat": 4,
 "nbformat_minor": 2
}
